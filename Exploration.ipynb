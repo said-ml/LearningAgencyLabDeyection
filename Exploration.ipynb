{
 "cells": [
  {
   "cell_type": "markdown",
   "id": "57a30aa1-a7c2-49a0-a079-a25cdd1491e2",
   "metadata": {},
   "source": [
    "## this notebook is for dta exploration and data visualization and data analysis"
   ]
  },
  {
   "cell_type": "code",
   "execution_count": 2,
   "id": "ccc02b27-0b07-45b8-a340-a271e7b51b20",
   "metadata": {},
   "outputs": [],
   "source": [
    "class exploration:\n",
    "    pass\n",
    "    "
   ]
  },
  {
   "cell_type": "code",
   "execution_count": 3,
   "id": "8f33a761-01e5-448c-ad95-2ada5ab7e76a",
   "metadata": {},
   "outputs": [],
   "source": [
    "class anlysis:\n",
    "    pass"
   ]
  },
  {
   "cell_type": "code",
   "execution_count": 4,
   "id": "d9f5ccdf-0c86-494e-a3d7-0cc5dba89c94",
   "metadata": {},
   "outputs": [],
   "source": [
    "class visualize:\n",
    "    pass"
   ]
  },
  {
   "cell_type": "code",
   "execution_count": 6,
   "id": "ec9ba96a-82f7-4694-a5e2-b8eb99c5fe8b",
   "metadata": {},
   "outputs": [],
   "source": [
    "! git add exploration.ipynb\n",
    "\n"
   ]
  },
  {
   "cell_type": "code",
   "execution_count": null,
   "id": "a787a5d3-3d33-4605-8fcc-60033fec5fb2",
   "metadata": {},
   "outputs": [],
   "source": []
  }
 ],
 "metadata": {
  "kernelspec": {
   "display_name": "Python 3 (ipykernel)",
   "language": "python",
   "name": "python3"
  },
  "language_info": {
   "codemirror_mode": {
    "name": "ipython",
    "version": 3
   },
   "file_extension": ".py",
   "mimetype": "text/x-python",
   "name": "python",
   "nbconvert_exporter": "python",
   "pygments_lexer": "ipython3",
   "version": "3.11.4"
  }
 },
 "nbformat": 4,
 "nbformat_minor": 5
}
