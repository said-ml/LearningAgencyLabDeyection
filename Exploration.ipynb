{
 "cells": [
  {
   "cell_type": "markdown",
   "id": "57a30aa1-a7c2-49a0-a079-a25cdd1491e2",
   "metadata": {},
   "source": [
    "## Overview:"
   ]
  },
  {
   "cell_type": "markdown",
   "id": "0ebf20b0-9f00-424d-9e68-818d1722d01d",
   "metadata": {},
   "source": [
    "The goal of this competition is to develop a model that detects personally identifiable information (PII) in student writing. Your efforts to automate the detection and removal of PII from educational data will lower the cost of releasing educational datasets. This will support learning science research and the development of educational tools."
   ]
  },
  {
   "cell_type": "markdown",
   "id": "ba5e79ba-1f0b-4580-aee0-ac617f5352a9",
   "metadata": {},
   "source": [
    "## Evaluation:"
   ]
  },
  {
   "cell_type": "markdown",
   "id": "60d17cbe-d36d-4665-a1b9-c4a7158b3ec4",
   "metadata": {},
   "source": [
    "Submissions are evaluated on micro $f_{\\beta}$  \r\n",
    ", whic h${\\beta}$  is a classification metric that assigns value to recall and precision. The value of \r\n",
    " is set to 5, which means that recall is weighted 5 times more heavily than precisio\n",
    " for more detail about the metric check out https://en.wikipedia.org/wiki/F-score.n."
   ]
  },
  {
   "cell_type": "markdown",
   "id": "aba415b8-548e-419c-94c8-28a8507820c0",
   "metadata": {},
   "source": [
    "## Submission:"
   ]
  },
  {
   "cell_type": "markdown",
   "id": "3f9031a7-637c-42ea-a589-842b125d588b",
   "metadata": {},
   "source": [
    "The file should contain a header and have the following format:"
   ]
  },
  {
   "attachments": {
    "cb2458ea-081c-44fd-ab5c-d9c182b5861b.png": {
     "image/png": "[encoded data removed]"
    }
   },
   "cell_type": "markdown",
   "id": "d0257d58-5662-4b2c-ad83-67d12597d9d8",
   "metadata": {},
   "source": [
    "![sub.png](attachment:cb2458ea-081c-44fd-ab5c-d9c182b5861b.png)"
   ]
  },
  {
   "cell_type": "markdown",
   "id": "35116c8c-c31b-45cf-a817-37156c8ef5ee",
   "metadata": {},
   "source": [
    "## Importing Dependencies:"
   ]
  },
  {
   "cell_type": "code",
   "execution_count": 3,
   "id": "e7a25ffd-e478-4e2a-ac9d-f217bb45e76c",
   "metadata": {},
   "outputs": [
    {
     "name": "stdout",
     "output_type": "stream",
     "text": [
      "123\n"
     ]
    }
   ],
   "source": [
    "import numpy as np\n",
    "import pandas as pd \n",
    "import matplotlib.pyplot as plt"
   ]
  },
  {
   "cell_type": "markdown",
   "id": "d4efbd8d-cb84-49dd-915f-cc824f7bc695",
   "metadata": {},
   "source": [
    "!git add Exploration.ipynb"
   ]
  },
  {
   "cell_type": "code",
   "execution_count": 4,
   "id": "d9f5ccdf-0c86-494e-a3d7-0cc5dba89c94",
   "metadata": {},
   "outputs": [
    {
     "name": "stdout",
     "output_type": "stream",
     "text": [
      "On branch master\n",
      "Your branch is up to date with 'origin/master'.\n",
      "\n",
      "Changes not staged for commit:\n",
      "  (use \"git add <file>...\" to update what will be committed)\n",
      "  (use \"git restore <file>...\" to discard changes in working directory)\n",
      "\tmodified:   Configuration.py\n",
      "\tmodified:   Exploration.ipynb\n",
      "\tmodified:   train.py\n",
      "\n",
      "Untracked files:\n",
      "  (use \"git add <file>...\" to include in what will be committed)\n",
      "\t.idea/\n",
      "\t.ipynb_checkpoints/\n",
      "\tUntitled.ipynb\n",
      "\ttext/\n",
      "\n",
      "no changes added to commit (use \"git add\" and/or \"git commit -a\")\n"
     ]
    }
   ],
   "source": [
    "! git commit -m \"add some changes and competitin description\""
   ]
  },
  {
   "cell_type": "code",
   "execution_count": 6,
   "id": "ec9ba96a-82f7-4694-a5e2-b8eb99c5fe8b",
   "metadata": {},
   "outputs": [
    {
     "name": "stderr",
     "output_type": "stream",
     "text": [
      "Everything up-to-date\n"
     ]
    }
   ],
   "source": [
    "! git push origin master"
   ]
  },
  {
   "cell_type": "code",
   "execution_count": 7,
   "id": "a787a5d3-3d33-4605-8fcc-60033fec5fb2",
   "metadata": {},
   "outputs": [
    {
     "name": "stdout",
     "output_type": "stream",
     "text": [
      "0\n",
      "1\n",
      "4\n",
      "9\n",
      "16\n",
      "25\n",
      "36\n",
      "49\n",
      "64\n",
      "81\n"
     ]
    }
   ],
   "source": [
    "for i in range(10):\n",
    "    print(i**2)\n"
   ]
  },
  {
   "cell_type": "code",
   "execution_count": 1,
   "id": "713271dc-0984-483d-908d-e33ca2d1fe6b",
   "metadata": {},
   "outputs": [
    {
     "name": "stdout",
     "output_type": "stream",
     "text": [
      "hello\n"
     ]
    }
   ],
   "source": []
  },
  {
   "cell_type": "code",
   "execution_count": null,
   "id": "432c9f41-babe-460f-bf40-86153a03491f",
   "metadata": {},
   "outputs": [],
   "source": []
  }
 ],
 "metadata": {
  "kernelspec": {
   "display_name": "Python 3 (ipykernel)",
   "language": "python",
   "name": "python3"
  },
  "language_info": {
   "codemirror_mode": {
    "name": "ipython",
    "version": 3
   },
   "file_extension": ".py",
   "mimetype": "text/x-python",
   "name": "python",
   "nbconvert_exporter": "python",
   "pygments_lexer": "ipython3",
   "version": "3.11.4"
  }
 },
 "nbformat": 4,
 "nbformat_minor": 5
}
